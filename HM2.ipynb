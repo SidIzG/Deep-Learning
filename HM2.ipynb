{
  "nbformat": 4,
  "nbformat_minor": 0,
  "metadata": {
    "kernelspec": {
      "display_name": "Python 3",
      "language": "python",
      "name": "python3"
    },
    "language_info": {
      "codemirror_mode": {
        "name": "ipython",
        "version": 3
      },
      "file_extension": ".py",
      "mimetype": "text/x-python",
      "name": "python",
      "nbconvert_exporter": "python",
      "pygments_lexer": "ipython3",
      "version": "3.6.4"
    },
    "colab": {
      "name": "HM2.ipynb",
      "provenance": [],
      "collapsed_sections": [],
      "toc_visible": true
    }
  },
  "cells": [
    {
      "cell_type": "markdown",
      "metadata": {
        "id": "wuAIHCc9HlaE"
      },
      "source": [
        "# HM2: Numerical Optimization for Logistic Regression.\n",
        "\n",
        "### Name: Siddesh Gannu\n"
      ]
    },
    {
      "cell_type": "markdown",
      "metadata": {
        "id": "f8g63tQ1HlaH"
      },
      "source": [
        "## 0. You will do the following:\n",
        "\n",
        "1. Read the lecture note: [click here](https://github.com/wangshusen/DeepLearning/blob/master/LectureNotes/Logistic/paper/logistic.pdf)\n",
        "\n",
        "2. Read, complete, and run my code.\n",
        "\n",
        "3. **Implement mini-batch SGD** and evaluate the performance.\n",
        "\n",
        "4. Convert the .IPYNB file to .HTML file.\n",
        "\n",
        "    * The HTML file must contain **the code** and **the output after execution**.\n",
        "    \n",
        "    * Missing **the output after execution** will not be graded.\n",
        "    \n",
        "5. Upload this .HTML file to your Google Drive, Dropbox, or your Github repo.  (If you submit the file to Google Drive or Dropbox, you must make the file \"open-access\". The delay caused by \"deny of access\" may result in late penalty.)\n",
        "\n",
        "6. Submit the link to this .HTML file to Canvas.\n",
        "\n",
        "    * Example: https://github.com/wangshusen/CS583-2020S/blob/master/homework/HM2/HM2.html\n",
        "\n",
        "\n",
        "## Grading criteria:\n",
        "\n",
        "1. When computing the ```gradient``` and ```objective function value``` using a batch of samples, use **matrix-vector multiplication** rather than a FOR LOOP of **vector-vector multiplications**.\n",
        "\n",
        "2. Plot ```objective function value``` against ```epochs```. In the plot, compare GD, SGD, and MB-SGD (with $b=8$ and $b=64$). The plot must look reasonable."
      ]
    },
    {
      "cell_type": "markdown",
      "metadata": {
        "id": "qBBoaSqLHlaI"
      },
      "source": [
        "# 1. Data processing\n",
        "\n",
        "- Download the Diabete dataset from https://www.csie.ntu.edu.tw/~cjlin/libsvmtools/datasets/binary/diabetes\n",
        "- Load the data using sklearn.\n",
        "- Preprocess the data."
      ]
    },
    {
      "cell_type": "markdown",
      "metadata": {
        "id": "fAMYVpU1HlaI"
      },
      "source": [
        "## 1.1. Load the data"
      ]
    },
    {
      "cell_type": "code",
      "metadata": {
        "id": "hdnWR8xaHlaI",
        "colab": {
          "base_uri": "https://localhost:8080/"
        },
        "outputId": "356b4610-9e9e-47ff-e03f-3d0d995ea25d"
      },
      "source": [
        "from sklearn import datasets\n",
        "import numpy\n",
        "\n",
        "x_sparse, y = datasets.load_svmlight_file(\"diabetes\")\n",
        "x = x_sparse.todense()\n",
        "\n",
        "print('Shape of x: ' + str(x.shape))\n",
        "print('Shape of y: ' + str(y.shape))"
      ],
      "execution_count": 44,
      "outputs": [
        {
          "output_type": "stream",
          "text": [
            "Shape of x: (768, 8)\n",
            "Shape of y: (768,)\n"
          ],
          "name": "stdout"
        }
      ]
    },
    {
      "cell_type": "markdown",
      "metadata": {
        "id": "zAk2V5LNHlaJ"
      },
      "source": [
        "## 1.2. Partition to training and test sets"
      ]
    },
    {
      "cell_type": "code",
      "metadata": {
        "id": "CKs19qEDHlaJ",
        "colab": {
          "base_uri": "https://localhost:8080/"
        },
        "outputId": "887c180f-978f-46a3-a6a4-84928ff84fac"
      },
      "source": [
        "# partition the data to training and test sets\n",
        "n = x.shape[0]\n",
        "n_train = 640\n",
        "n_test = n - n_train\n",
        "\n",
        "rand_indices = numpy.random.permutation(n)\n",
        "train_indices = rand_indices[0:n_train]\n",
        "test_indices = rand_indices[n_train:n]\n",
        "\n",
        "x_train = x[train_indices, :]\n",
        "x_test = x[test_indices, :]\n",
        "y_train = y[train_indices].reshape(n_train, 1)\n",
        "y_test = y[test_indices].reshape(n_test, 1)\n",
        "\n",
        "print('Shape of x_train: ' + str(x_train.shape))\n",
        "print('Shape of x_test: ' + str(x_test.shape))\n",
        "print('Shape of y_train: ' + str(y_train.shape))\n",
        "print('Shape of y_test: ' + str(y_test.shape))"
      ],
      "execution_count": 45,
      "outputs": [
        {
          "output_type": "stream",
          "text": [
            "Shape of x_train: (640, 8)\n",
            "Shape of x_test: (128, 8)\n",
            "Shape of y_train: (640, 1)\n",
            "Shape of y_test: (128, 1)\n"
          ],
          "name": "stdout"
        }
      ]
    },
    {
      "cell_type": "markdown",
      "metadata": {
        "id": "TYB8JLhAHlaK"
      },
      "source": [
        "## 1.3. Feature scaling"
      ]
    },
    {
      "cell_type": "markdown",
      "metadata": {
        "id": "ITWX9mOoHlaK"
      },
      "source": [
        "Use the standardization to trainsform both training and test features"
      ]
    },
    {
      "cell_type": "code",
      "metadata": {
        "id": "M0gYKS5IHlaK",
        "colab": {
          "base_uri": "https://localhost:8080/"
        },
        "outputId": "04400bbd-f0df-4b63-bbab-7a3d172415d4"
      },
      "source": [
        "# Standardization\n",
        "import numpy\n",
        "\n",
        "# calculate mu and sig using the training set\n",
        "d = x_train.shape[1]\n",
        "print('d=',d)\n",
        "mu = numpy.mean(x_train, axis=0).reshape(1, d)\n",
        "print('mu=',mu)\n",
        "sig = numpy.std(x_train, axis=0).reshape(1, d)\n",
        "print('sig=',sig)\n",
        "\n",
        "# transform the training features\n",
        "x_train = (x_train - mu) / (sig + 1E-6)\n",
        "\n",
        "# transform the test features\n",
        "x_test = (x_test - mu) / (sig + 1E-6)\n",
        "\n",
        "print('test mean = ')\n",
        "print(numpy.mean(x_test, axis=0))\n",
        "\n",
        "print('test std = ')\n",
        "print(numpy.std(x_test, axis=0))"
      ],
      "execution_count": 46,
      "outputs": [
        {
          "output_type": "stream",
          "text": [
            "d= 8\n",
            "mu= [[  3.9453125  120.71875     68.796875    20.2375      78.940625\n",
            "   31.90421876   0.459625    33.459375  ]]\n",
            "sig= [[  3.46344435  31.98958265  19.56997037  15.85184828 116.25710828\n",
            "    7.72156864   0.31098028  11.91643716]]\n",
            "test mean = \n",
            "[[-0.17368904  0.03296972  0.09461243  0.11315714  0.04432525  0.06865913\n",
            "   0.23637375 -0.11001085]]\n",
            "test std = \n",
            "[[0.80414425 0.9924353  0.92428075 1.02841564 0.941578   1.11501948\n",
            "  1.32493091 0.90886495]]\n"
          ],
          "name": "stdout"
        }
      ]
    },
    {
      "cell_type": "markdown",
      "metadata": {
        "id": "r4ABSTXVHlaL"
      },
      "source": [
        "## 1.4. Add a dimension of all ones"
      ]
    },
    {
      "cell_type": "code",
      "metadata": {
        "id": "w7rlnG3THlaL",
        "colab": {
          "base_uri": "https://localhost:8080/"
        },
        "outputId": "10b047e1-cee3-4a7f-b30b-b54ed32d931a"
      },
      "source": [
        "n_train, d = x_train.shape\n",
        "x_train = numpy.concatenate((x_train, numpy.ones((n_train, 1))), axis=1)\n",
        "\n",
        "n_test, d = x_test.shape\n",
        "x_test = numpy.concatenate((x_test, numpy.ones((n_test, 1))), axis=1)\n",
        "\n",
        "print('Shape of x_train: ' + str(x_train.shape))\n",
        "print('Shape of x_test: ' + str(x_test.shape))"
      ],
      "execution_count": 47,
      "outputs": [
        {
          "output_type": "stream",
          "text": [
            "Shape of x_train: (640, 9)\n",
            "Shape of x_test: (128, 9)\n"
          ],
          "name": "stdout"
        }
      ]
    },
    {
      "cell_type": "markdown",
      "metadata": {
        "id": "7BS0qzQ5HlaL"
      },
      "source": [
        "# 2. Logistic regression model\n",
        "\n",
        "The objective function is $Q (w; X, y) = \\frac{1}{n} \\sum_{i=1}^n \\log \\Big( 1 + \\exp \\big( - y_i x_i^T w \\big) \\Big) + \\frac{\\lambda}{2} \\| w \\|_2^2 $."
      ]
    },
    {
      "cell_type": "code",
      "metadata": {
        "id": "1QXhjVlmHlaL"
      },
      "source": [
        "# Calculate the objective function value\n",
        "# Inputs:\n",
        "#     w: d-by-1 matrix\n",
        "#     x: n-by-d matrix\n",
        "#     y: n-by-1 matrix\n",
        "#     lam: scalar, the regularization parameter\n",
        "# Return:\n",
        "#     objective function value (scalar)\n",
        "def objective(w, x, y, lam):\n",
        "    n, d = x.shape\n",
        "    yx = numpy.multiply(y, x) # n-by-d matrix\n",
        "    yxw = numpy.dot(yx, w) # n-by-1 matrix\n",
        "    vec1 = numpy.exp(-yxw) # n-by-1 matrix\n",
        "    vec2 = numpy.log(1 + vec1) # n-by-1 matrix\n",
        "    loss = numpy.mean(vec2) # scalar\n",
        "    reg = lam / 2 * numpy.sum(w * w) # scalar\n",
        "    return loss + reg\n",
        "    "
      ],
      "execution_count": 48,
      "outputs": []
    },
    {
      "cell_type": "code",
      "metadata": {
        "id": "_6pBb2UBHlaM",
        "colab": {
          "base_uri": "https://localhost:8080/"
        },
        "outputId": "9a6e32af-d9c9-467f-9273-6006c8963629"
      },
      "source": [
        "# initialize w\n",
        "d = x_train.shape[1]\n",
        "print ('d',d)\n",
        "w = numpy.zeros((d, 1))\n",
        "print ('w',w)\n",
        "\n",
        "# evaluate the objective function value at w\n",
        "lam = 1E-6\n",
        "objval0 = objective(w, x_train, y_train, lam)\n",
        "print('Initial objective function value = ' + str(objval0))"
      ],
      "execution_count": 49,
      "outputs": [
        {
          "output_type": "stream",
          "text": [
            "d 9\n",
            "w [[0.]\n",
            " [0.]\n",
            " [0.]\n",
            " [0.]\n",
            " [0.]\n",
            " [0.]\n",
            " [0.]\n",
            " [0.]\n",
            " [0.]]\n",
            "Initial objective function value = 0.6931471805599453\n"
          ],
          "name": "stdout"
        }
      ]
    },
    {
      "cell_type": "markdown",
      "metadata": {
        "id": "K02Itb6aHlaM"
      },
      "source": [
        "# 3. Numerical optimization"
      ]
    },
    {
      "cell_type": "markdown",
      "metadata": {
        "id": "gZHkuRFvHlaN"
      },
      "source": [
        "## 3.1. Gradient descent\n"
      ]
    },
    {
      "cell_type": "markdown",
      "metadata": {
        "id": "qO05MlabHlaN"
      },
      "source": [
        "The gradient at $w$ is $g = - \\frac{1}{n} \\sum_{i=1}^n \\frac{y_i x_i }{1 + \\exp ( y_i x_i^T w)} + \\lambda w$"
      ]
    },
    {
      "cell_type": "code",
      "metadata": {
        "id": "DNGw1l75HlaN"
      },
      "source": [
        "# Calculate the gradient\n",
        "# Inputs:\n",
        "#     w: d-by-1 matrix\n",
        "#     x: n-by-d matrix\n",
        "#     y: n-by-1 matrix\n",
        "#     lam: scalar, the regularization parameter\n",
        "# Return:\n",
        "#     g: g: d-by-1 matrix, full gradient\n",
        "def gradient(w, x, y, lam):\n",
        "    n, d = x.shape\n",
        "    yx = numpy.multiply(y, x) # n-by-d matrix\n",
        "    yxw = numpy.dot(yx, w) # n-by-1 matrix\n",
        "    vec1 = numpy.exp(yxw) # n-by-1 matrix\n",
        "    vec2 = numpy.divide(yx, 1+vec1) # n-by-d matrix\n",
        "    vec3 = -numpy.mean(vec2, axis=0).reshape(d, 1) # d-by-1 matrix\n",
        "    g = vec3 + lam * w\n",
        "    return g"
      ],
      "execution_count": 50,
      "outputs": []
    },
    {
      "cell_type": "code",
      "metadata": {
        "id": "IIGnPzVPHlaO"
      },
      "source": [
        "# Gradient descent for solving logistic regression\n",
        "# Inputs:\n",
        "#     x: n-by-d matrix\n",
        "#     y: n-by-1 matrix\n",
        "#     lam: scalar, the regularization parameter\n",
        "#     stepsize: scalar\n",
        "#     max_iter: integer, the maximal iterations\n",
        "#     w: d-by-1 matrix, initialization of w\n",
        "# Return:\n",
        "#     w: d-by-1 matrix, the solution\n",
        "#     objvals: a record of each iteration's objective value\n",
        "def grad_descent(x, y, lam, stepsize, max_iter=100, w=None):\n",
        "    n, d = x.shape\n",
        "    objvals = numpy.zeros(max_iter) # store the objective values\n",
        "    if w is None:\n",
        "        w = numpy.zeros((d, 1)) # zero initialization\n",
        "    \n",
        "    for t in range(max_iter):\n",
        "        objval = objective(w, x, y, lam)\n",
        "        objvals[t] = objval\n",
        "        print('Objective value at t=' + str(t) + ' is ' + str(objval))\n",
        "        g = gradient(w, x, y, lam)\n",
        "        w -= stepsize * g\n",
        "    \n",
        "    return w, objvals"
      ],
      "execution_count": 51,
      "outputs": []
    },
    {
      "cell_type": "markdown",
      "metadata": {
        "id": "0Xbq38xLHlaO"
      },
      "source": [
        "Run gradient descent."
      ]
    },
    {
      "cell_type": "code",
      "metadata": {
        "id": "SqECO9LXHlaO",
        "colab": {
          "base_uri": "https://localhost:8080/"
        },
        "outputId": "8013d828-b359-4fbd-cca8-0605e058e1d8"
      },
      "source": [
        "lam = 1E-6\n",
        "stepsize = 1.0\n",
        "w, objvals_gd = grad_descent(x_train, y_train, lam, stepsize)"
      ],
      "execution_count": 52,
      "outputs": [
        {
          "output_type": "stream",
          "text": [
            "Objective value at t=0 is 0.6931471805599453\n",
            "Objective value at t=1 is 0.5912946828924999\n",
            "Objective value at t=2 is 0.5503792455542774\n",
            "Objective value at t=3 is 0.5284587461792282\n",
            "Objective value at t=4 is 0.5148047739586202\n",
            "Objective value at t=5 is 0.5055754171137944\n",
            "Objective value at t=6 is 0.49901935362971184\n",
            "Objective value at t=7 is 0.49420505957826605\n",
            "Objective value at t=8 is 0.4905840110558438\n",
            "Objective value at t=9 is 0.4878100292280076\n",
            "Objective value at t=10 is 0.48565363432809133\n",
            "Objective value at t=11 is 0.48395706398536653\n",
            "Objective value at t=12 is 0.4826087568520682\n",
            "Objective value at t=13 is 0.4815280098067056\n",
            "Objective value at t=14 is 0.4806553304379208\n",
            "Objective value at t=15 is 0.4799461534863699\n",
            "Objective value at t=16 is 0.4793666299982085\n",
            "Objective value at t=17 is 0.47889073763564666\n",
            "Objective value at t=18 is 0.47849825690728537\n",
            "Objective value at t=19 is 0.4781733284499444\n",
            "Objective value at t=20 is 0.4779034082116329\n",
            "Objective value at t=21 is 0.4776785000376138\n",
            "Objective value at t=22 is 0.47749058477582373\n",
            "Objective value at t=23 is 0.4773331906346339\n",
            "Objective value at t=24 is 0.47720106641993704\n",
            "Objective value at t=25 is 0.4770899306168406\n",
            "Objective value at t=26 is 0.4769962770123998\n",
            "Objective value at t=27 is 0.47691722290437916\n",
            "Objective value at t=28 is 0.47685038969112675\n",
            "Objective value at t=29 is 0.4767938082998915\n",
            "Objective value at t=30 is 0.47674584382293494\n",
            "Objective value at t=31 is 0.4767051351189885\n",
            "Objective value at t=32 is 0.47667054615580706\n",
            "Objective value at t=33 is 0.4766411266235547\n",
            "Objective value at t=34 is 0.47661607991212435\n",
            "Objective value at t=35 is 0.4765947369700073\n",
            "Objective value at t=36 is 0.4765765348847468\n",
            "Objective value at t=37 is 0.4765609992717357\n",
            "Objective value at t=38 is 0.47654772974823734\n",
            "Objective value at t=39 is 0.47653638791699626\n",
            "Objective value at t=40 is 0.4765266873989038\n",
            "Objective value at t=41 is 0.4765183855445718\n",
            "Objective value at t=42 is 0.4765112765260005\n",
            "Objective value at t=43 is 0.4765051855661443\n",
            "Objective value at t=44 is 0.4764999641093173\n",
            "Objective value at t=45 is 0.47649548577153933\n",
            "Objective value at t=46 is 0.47649164293901086\n",
            "Objective value at t=47 is 0.4764883439064006\n",
            "Objective value at t=48 is 0.4764855104656799\n",
            "Objective value at t=49 is 0.4764830758717366\n",
            "Objective value at t=50 is 0.47648098312365733\n",
            "Objective value at t=51 is 0.47647918351092955\n",
            "Objective value at t=52 is 0.47647763538233073\n",
            "Objective value at t=53 is 0.4764763031022804\n",
            "Objective value at t=54 is 0.4764751561652261\n",
            "Objective value at t=55 is 0.4764741684434257\n",
            "Objective value at t=56 is 0.4764733175474688\n",
            "Objective value at t=57 is 0.4764725842821871\n",
            "Objective value at t=58 is 0.4764719521833619\n",
            "Objective value at t=59 is 0.4764714071229374\n",
            "Objective value at t=60 is 0.4764709369723731\n",
            "Objective value at t=61 is 0.47647053131538336\n",
            "Objective value at t=62 is 0.47647018120266443\n",
            "Objective value at t=63 is 0.4764698789423433\n",
            "Objective value at t=64 is 0.47646961792084835\n",
            "Objective value at t=65 is 0.4764693924496961\n",
            "Objective value at t=66 is 0.476469197634382\n",
            "Objective value at t=67 is 0.4764690292621253\n",
            "Objective value at t=68 is 0.47646888370571466\n",
            "Objective value at t=69 is 0.4764687578411049\n",
            "Objective value at t=70 is 0.47646864897676866\n",
            "Objective value at t=71 is 0.47646855479309946\n",
            "Objective value at t=72 is 0.47646847329041536\n",
            "Objective value at t=73 is 0.4764684027443244\n",
            "Objective value at t=74 is 0.4764683416673948\n",
            "Objective value at t=75 is 0.47646828877622843\n",
            "Objective value at t=76 is 0.4764682429631634\n",
            "Objective value at t=77 is 0.47646820327194794\n",
            "Objective value at t=78 is 0.4764681688768211\n",
            "Objective value at t=79 is 0.4764681390645162\n",
            "Objective value at t=80 is 0.4764681132187749\n",
            "Objective value at t=81 is 0.47646809080701635\n",
            "Objective value at t=82 is 0.47646807136885866\n",
            "Objective value at t=83 is 0.47646805450623153\n",
            "Objective value at t=84 is 0.4764680398748577\n",
            "Objective value at t=85 is 0.4764680271769116\n",
            "Objective value at t=86 is 0.4764680161546897\n",
            "Objective value at t=87 is 0.47646800658515287\n",
            "Objective value at t=88 is 0.47646799827521863\n",
            "Objective value at t=89 is 0.47646799105769877\n",
            "Objective value at t=90 is 0.47646798478779395\n",
            "Objective value at t=91 is 0.4764679793400671\n",
            "Objective value at t=92 is 0.47646797460583096\n",
            "Objective value at t=93 is 0.4764679704908897\n",
            "Objective value at t=94 is 0.4764679669135901\n",
            "Objective value at t=95 is 0.47646796380313583\n",
            "Objective value at t=96 is 0.47646796109813094\n",
            "Objective value at t=97 is 0.476467958745321\n",
            "Objective value at t=98 is 0.4764679566985033\n",
            "Objective value at t=99 is 0.47646795491758587\n"
          ],
          "name": "stdout"
        }
      ]
    },
    {
      "cell_type": "markdown",
      "metadata": {
        "id": "VfixdSg9HlaP"
      },
      "source": [
        "## 3.2. Stochastic gradient descent (SGD)\n",
        "\n",
        "Define $Q_i (w) = \\log \\Big( 1 + \\exp \\big( - y_i x_i^T w \\big) \\Big) + \\frac{\\lambda}{2} \\| w \\|_2^2 $.\n",
        "\n",
        "The stochastic gradient at $w$ is $g_i = \\frac{\\partial Q_i }{ \\partial w} = -\\frac{y_i x_i }{1 + \\exp ( y_i x_i^T w)} + \\lambda w$."
      ]
    },
    {
      "cell_type": "code",
      "metadata": {
        "id": "N-t2lzjvHlaP"
      },
      "source": [
        "# Calculate the objective Q_i and the gradient of Q_i\n",
        "# Inputs:\n",
        "#     w: d-by-1 matrix\n",
        "#     xi: 1-by-d matrix\n",
        "#     yi: scalar\n",
        "#     lam: scalar, the regularization parameter\n",
        "# Return:\n",
        "#     obj: scalar, the objective Q_i\n",
        "#     g: d-by-1 matrix, gradient of Q_i\n",
        "def stochastic_objective_gradient(w, xi, yi, lam):\n",
        "    d = xi.shape[0]\n",
        "    yx = yi * xi # 1-by-d matrix\n",
        "    yxw = float(numpy.dot(yx, w)) # scalar 1*1\n",
        "    \n",
        "    # calculate objective function Q_i\n",
        "    loss = numpy.log(1 + numpy.exp(-yxw)) # scalar\n",
        "    reg = lam / 2 * numpy.sum(w * w) # scalar\n",
        "    obj = loss + reg\n",
        "    \n",
        "    # calculate stochastic gradient\n",
        "    g_loss = -yx.T / (1 + numpy.exp(yxw)) # d-by-1 matrix\n",
        "    g = g_loss + lam * w # d-by-1 matrix\n",
        "    \n",
        "    return obj, g"
      ],
      "execution_count": 53,
      "outputs": []
    },
    {
      "cell_type": "code",
      "metadata": {
        "id": "9OnIRm62HlaQ"
      },
      "source": [
        "# SGD for solving logistic regression\n",
        "# Inputs:\n",
        "#     x: n-by-d matrix\n",
        "#     y: n-by-1 matrix\n",
        "#     lam: scalar, the regularization parameter\n",
        "#     stepsize: scalar\n",
        "#     max_epoch: integer, the maximal epochs\n",
        "#     w: d-by-1 matrix, initialization of w\n",
        "# Return:\n",
        "#     w: the solution\n",
        "#     objvals: record of each iteration's objective value\n",
        "def sgd(x, y, lam, stepsize, max_epoch=100, w=None):\n",
        "    n, d = x.shape\n",
        "    objvals = numpy.zeros(max_epoch) # store the objective values\n",
        "    if w is None:\n",
        "        w = numpy.zeros((d, 1)) # zero initialization\n",
        "    \n",
        "    for t in range(max_epoch):\n",
        "        # randomly shuffle the samples\n",
        "        rand_indices = numpy.random.permutation(n)\n",
        "        x_rand = x[rand_indices, :]\n",
        "        y_rand = y[rand_indices, :]\n",
        "        \n",
        "        objval = 0 # accumulate the objective values\n",
        "        for i in range(n):\n",
        "            xi = x_rand[i, :] # 1-by-d matrix\n",
        "            yi = float(y_rand[i, :]) # scalar\n",
        "            obj, g = stochastic_objective_gradient(w, xi, yi, lam)\n",
        "            objval += obj\n",
        "            w -= stepsize * g\n",
        "        \n",
        "        stepsize *= 0.9 # decrease step size\n",
        "        objval /= n\n",
        "        objvals[t] = objval\n",
        "        print('Objective value at epoch t=' + str(t) + ' is ' + str(objval))\n",
        "    \n",
        "    return w, objvals"
      ],
      "execution_count": 54,
      "outputs": []
    },
    {
      "cell_type": "markdown",
      "metadata": {
        "id": "52JwbZv9HlaQ"
      },
      "source": [
        "Run SGD."
      ]
    },
    {
      "cell_type": "code",
      "metadata": {
        "id": "tHquS-2wHlaQ",
        "colab": {
          "base_uri": "https://localhost:8080/"
        },
        "outputId": "676c0dff-7779-4724-d8f8-4020dcb0df4e"
      },
      "source": [
        "lam = 1E-6\n",
        "stepsize = 0.1\n",
        "w, objvals_sgd = sgd(x_train, y_train, lam, stepsize)"
      ],
      "execution_count": 55,
      "outputs": [
        {
          "output_type": "stream",
          "text": [
            "Objective value at epoch t=0 is 0.5323500600184442\n",
            "Objective value at epoch t=1 is 0.5178673372425107\n",
            "Objective value at epoch t=2 is 0.5119480412615286\n",
            "Objective value at epoch t=3 is 0.5024285766134887\n",
            "Objective value at epoch t=4 is 0.5116037100145215\n",
            "Objective value at epoch t=5 is 0.4998043060142666\n",
            "Objective value at epoch t=6 is 0.5108385500466726\n",
            "Objective value at epoch t=7 is 0.49905589600878314\n",
            "Objective value at epoch t=8 is 0.5021280232442324\n",
            "Objective value at epoch t=9 is 0.493586123283129\n",
            "Objective value at epoch t=10 is 0.4951660051073722\n",
            "Objective value at epoch t=11 is 0.4933752579367717\n",
            "Objective value at epoch t=12 is 0.4907123147967079\n",
            "Objective value at epoch t=13 is 0.4910608395664761\n",
            "Objective value at epoch t=14 is 0.491808796299233\n",
            "Objective value at epoch t=15 is 0.491191689629672\n",
            "Objective value at epoch t=16 is 0.4861306450079031\n",
            "Objective value at epoch t=17 is 0.4876825434410046\n",
            "Objective value at epoch t=18 is 0.4862284834148933\n",
            "Objective value at epoch t=19 is 0.4857533374320311\n",
            "Objective value at epoch t=20 is 0.4848375788228892\n",
            "Objective value at epoch t=21 is 0.4838053579555847\n",
            "Objective value at epoch t=22 is 0.48308992315261656\n",
            "Objective value at epoch t=23 is 0.48231122802332466\n",
            "Objective value at epoch t=24 is 0.48173074804317056\n",
            "Objective value at epoch t=25 is 0.4818607603536985\n",
            "Objective value at epoch t=26 is 0.48108195788872815\n",
            "Objective value at epoch t=27 is 0.4804934914160085\n",
            "Objective value at epoch t=28 is 0.48017253022840645\n",
            "Objective value at epoch t=29 is 0.47971938348790627\n",
            "Objective value at epoch t=30 is 0.47968740451296626\n",
            "Objective value at epoch t=31 is 0.4793567555502836\n",
            "Objective value at epoch t=32 is 0.47897851955699694\n",
            "Objective value at epoch t=33 is 0.4788260182600449\n",
            "Objective value at epoch t=34 is 0.47852970554940244\n",
            "Objective value at epoch t=35 is 0.47837247356777396\n",
            "Objective value at epoch t=36 is 0.47815319770356074\n",
            "Objective value at epoch t=37 is 0.4779689010195943\n",
            "Objective value at epoch t=38 is 0.4778232580434777\n",
            "Objective value at epoch t=39 is 0.47769002381874764\n",
            "Objective value at epoch t=40 is 0.47758613479562523\n",
            "Objective value at epoch t=41 is 0.4774796161993837\n",
            "Objective value at epoch t=42 is 0.47738059573178526\n",
            "Objective value at epoch t=43 is 0.47729715524275684\n",
            "Objective value at epoch t=44 is 0.4772075399309526\n",
            "Objective value at epoch t=45 is 0.47713482657555567\n",
            "Objective value at epoch t=46 is 0.47706929579224583\n",
            "Objective value at epoch t=47 is 0.4769998623416335\n",
            "Objective value at epoch t=48 is 0.4769505992724542\n",
            "Objective value at epoch t=49 is 0.47690572487588134\n",
            "Objective value at epoch t=50 is 0.47685916938888984\n",
            "Objective value at epoch t=51 is 0.47682363988893994\n",
            "Objective value at epoch t=52 is 0.4767910059110142\n",
            "Objective value at epoch t=53 is 0.4767578968251541\n",
            "Objective value at epoch t=54 is 0.47672827179790656\n",
            "Objective value at epoch t=55 is 0.4767033004493292\n",
            "Objective value at epoch t=56 is 0.476680172018043\n",
            "Objective value at epoch t=57 is 0.47665860891329126\n",
            "Objective value at epoch t=58 is 0.476639776905441\n",
            "Objective value at epoch t=59 is 0.4766228873569992\n",
            "Objective value at epoch t=60 is 0.47660736754178357\n",
            "Objective value at epoch t=61 is 0.47659350705305303\n",
            "Objective value at epoch t=62 is 0.4765805653277648\n",
            "Objective value at epoch t=63 is 0.47656942441379524\n",
            "Objective value at epoch t=64 is 0.47655897133662783\n",
            "Objective value at epoch t=65 is 0.4765503273287345\n",
            "Objective value at epoch t=66 is 0.47654203535414397\n",
            "Objective value at epoch t=67 is 0.47653477308564207\n",
            "Objective value at epoch t=68 is 0.4765280892929732\n",
            "Objective value at epoch t=69 is 0.4765220996115538\n",
            "Objective value at epoch t=70 is 0.4765167437450035\n",
            "Objective value at epoch t=71 is 0.476511891392087\n",
            "Objective value at epoch t=72 is 0.47650750342413895\n",
            "Objective value at epoch t=73 is 0.4765035811234207\n",
            "Objective value at epoch t=74 is 0.47650004539978896\n",
            "Objective value at epoch t=75 is 0.4764968413290408\n",
            "Objective value at epoch t=76 is 0.4764939635474648\n",
            "Objective value at epoch t=77 is 0.47649140622626474\n",
            "Objective value at epoch t=78 is 0.47648908165978343\n",
            "Objective value at epoch t=79 is 0.4764869876091617\n",
            "Objective value at epoch t=80 is 0.4764851009801604\n",
            "Objective value at epoch t=81 is 0.4764834053638256\n",
            "Objective value at epoch t=82 is 0.47648188357139104\n",
            "Objective value at epoch t=83 is 0.47648051054173957\n",
            "Objective value at epoch t=84 is 0.47647927649367816\n",
            "Objective value at epoch t=85 is 0.47647816308497404\n",
            "Objective value at epoch t=86 is 0.47647716187385836\n",
            "Objective value at epoch t=87 is 0.4764762612975274\n",
            "Objective value at epoch t=88 is 0.47647545023156884\n",
            "Objective value at epoch t=89 is 0.47647472119968215\n",
            "Objective value at epoch t=90 is 0.47647406350036975\n",
            "Objective value at epoch t=91 is 0.4764734728563756\n",
            "Objective value at epoch t=92 is 0.47647294108991856\n",
            "Objective value at epoch t=93 is 0.47647246208050326\n",
            "Objective value at epoch t=94 is 0.4764720312371509\n",
            "Objective value at epoch t=95 is 0.47647164334485687\n",
            "Objective value at epoch t=96 is 0.4764712943242337\n",
            "Objective value at epoch t=97 is 0.47647098002924854\n",
            "Objective value at epoch t=98 is 0.47647069729574987\n",
            "Objective value at epoch t=99 is 0.4764704428141755\n"
          ],
          "name": "stdout"
        }
      ]
    },
    {
      "cell_type": "markdown",
      "metadata": {
        "id": "FAT6Eje7HlaQ"
      },
      "source": [
        "# 4. Compare GD with SGD\n",
        "\n",
        "Plot objective function values against epochs."
      ]
    },
    {
      "cell_type": "code",
      "metadata": {
        "id": "bwLSp1dzHlaR",
        "colab": {
          "base_uri": "https://localhost:8080/",
          "height": 297
        },
        "outputId": "51929d9a-1ee1-4186-fb70-da35440fb86d"
      },
      "source": [
        "import matplotlib.pyplot as plt\n",
        "%matplotlib inline\n",
        "\n",
        "fig = plt.figure(figsize=(6, 4))\n",
        "\n",
        "epochs_gd = range(len(objvals_gd))\n",
        "epochs_sgd = range(len(objvals_sgd))\n",
        "\n",
        "line0, = plt.plot(epochs_gd, objvals_gd, '--b', LineWidth=4)\n",
        "line1, = plt.plot(epochs_sgd, objvals_sgd, '-r', LineWidth=2)\n",
        "plt.xlabel('Epochs', FontSize=20)\n",
        "plt.ylabel('Objective Value', FontSize=20)\n",
        "plt.xticks(FontSize=16)\n",
        "plt.yticks(FontSize=16)\n",
        "plt.legend([line0, line1], ['GD', 'SGD'], fontsize=20)\n",
        "plt.tight_layout()\n",
        "plt.show()\n",
        "fig.savefig('compare_gd_sgd.pdf', format='pdf', dpi=1200)"
      ],
      "execution_count": 56,
      "outputs": [
        {
          "output_type": "display_data",
          "data": {
            "image/png": "[encoded data removed]",
            "text/plain": [
              "<Figure size 432x288 with 1 Axes>"
            ]
          },
          "metadata": {
            "tags": [],
            "needs_background": "light"
          }
        }
      ]
    },
    {
      "cell_type": "markdown",
      "metadata": {
        "id": "ryikU0yKHlaR"
      },
      "source": [
        "# 5. Prediction"
      ]
    },
    {
      "cell_type": "code",
      "metadata": {
        "id": "GqT9PZAqHlaR"
      },
      "source": [
        "# Predict class label\n",
        "# Inputs:\n",
        "#     w: d-by-1 matrix\n",
        "#     X: m-by-d matrix\n",
        "# Return:\n",
        "#     f: m-by-1 matrix, the predictions\n",
        "def predict(w, X):\n",
        "    xw = numpy.dot(X, w)\n",
        "    f = numpy.sign(xw)\n",
        "    return f"
      ],
      "execution_count": 57,
      "outputs": []
    },
    {
      "cell_type": "code",
      "metadata": {
        "id": "BlZKkP6EHlaS",
        "colab": {
          "base_uri": "https://localhost:8080/"
        },
        "outputId": "8ac0c173-34a9-4367-9459-92b7901a7f7d"
      },
      "source": [
        "# evaluate training error\n",
        "f_train = predict(w, x_train)\n",
        "diff = numpy.abs(f_train - y_train) / 2\n",
        "error_train = numpy.mean(diff)\n",
        "print('Training classification error is ' + str(error_train))"
      ],
      "execution_count": 58,
      "outputs": [
        {
          "output_type": "stream",
          "text": [
            "Training classification error is 0.225\n"
          ],
          "name": "stdout"
        }
      ]
    },
    {
      "cell_type": "code",
      "metadata": {
        "id": "cs67eCqzHlaS",
        "colab": {
          "base_uri": "https://localhost:8080/"
        },
        "outputId": "32b912ce-ee1d-4dda-8021-a0b341da32b6"
      },
      "source": [
        "# evaluate test error\n",
        "f_test = predict(w, x_test)\n",
        "diff = numpy.abs(f_test - y_test) / 2\n",
        "error_test = numpy.mean(diff)\n",
        "print('Test classification error is ' + str(error_test))"
      ],
      "execution_count": 59,
      "outputs": [
        {
          "output_type": "stream",
          "text": [
            "Test classification error is 0.1953125\n"
          ],
          "name": "stdout"
        }
      ]
    },
    {
      "cell_type": "markdown",
      "metadata": {
        "id": "El7EGEx0HlaT"
      },
      "source": [
        "# 6. Mini-batch SGD (fill the code)\n",
        "\n"
      ]
    },
    {
      "cell_type": "markdown",
      "metadata": {
        "id": "yVsT0-PBHlaT"
      },
      "source": [
        "## 6.1. Compute the objective $Q_I$ and its gradient using a batch of samples\n",
        "\n",
        "Define $Q_I (w) = \\frac{1}{b} \\sum_{i \\in I} \\log \\Big( 1 + \\exp \\big( - y_i x_i^T w \\big) \\Big) + \\frac{\\lambda}{2} \\| w \\|_2^2 $, where $I$ is a set containing $b$ indices randomly drawn from $\\{ 1, \\cdots , n \\}$ without replacement.\n",
        "\n",
        "The stochastic gradient at $w$ is $g_I = \\frac{\\partial Q_I }{ \\partial w} = \\frac{1}{b} \\sum_{i \\in I} \\frac{- y_i x_i }{1 + \\exp ( y_i x_i^T w)} + \\lambda w$."
      ]
    },
    {
      "cell_type": "code",
      "metadata": {
        "id": "wsQnRaNUHlaU"
      },
      "source": [
        "# Calculate the objective Q_I and the gradient of Q_I\n",
        "# Inputs:\n",
        "#     w: d-by-1 matrix\n",
        "#     xi: b-by-d matrix\n",
        "#     yi: b-by-1 matrix\n",
        "#     lam: scalar, the regularization parameter\n",
        "#     b: integer, the batch size\n",
        "# Return:\n",
        "#     obj: scalar, the objective Q_i\n",
        "#     g: d-by-1 matrix, gradient of Q_i\n",
        "def mb_stochastic_objective_gradient(w, xi, yi, lam, b):\n",
        "    #d = xi.shape[0]\n",
        "    yx = numpy.multiply(yi,xi) #bxd\n",
        "    yxw = numpy.dot(yx,w)  #bx1\n",
        "    \n",
        "    # calculate objective function Q_i\n",
        "    loss = numpy.log(1 + numpy.exp(-yxw)) #bx1\n",
        "\n",
        "    reg = lam / 2 * numpy.sum(w * w) #scalar\n",
        "    obj = (1/b)*numpy.sum(loss) + reg\n",
        "                   \n",
        "    # calculate stochastic gradient\n",
        "    z= (1/(1 + numpy.exp(yxw)))   #bx1\n",
        "    #g_loss = -yx.T / (1 + numpy.exp(yxw)) # d-by-1 matrix\n",
        "    g_loss = numpy.multiply(z,-yx).T #bxd\n",
        "    g= (1/b)*numpy.sum(g_loss,axis=1)  #dx1\n",
        "    g = g+ (lam*w)  #dx1\n",
        "    \n",
        "    return obj, g            \n",
        "    "
      ],
      "execution_count": 60,
      "outputs": []
    },
    {
      "cell_type": "markdown",
      "metadata": {
        "id": "tk9SjiLwHlaU"
      },
      "source": [
        "## 6.2. Implement mini-batch SGD\n",
        "\n",
        "Hints:\n",
        "1. In every epoch, randomly permute the $n$ samples (just like SGD).\n",
        "2. Each epoch has $\\frac{n}{b}$ iterations. In every iteration, use $b$ samples, and compute the gradient and objective using the ``mb_stochastic_objective_gradient`` function. In the next iteration, use the next $b$ samples, and so on.\n"
      ]
    },
    {
      "cell_type": "code",
      "metadata": {
        "id": "i58TVL0zHlaU"
      },
      "source": [
        "# Mini-Batch SGD for solving logistic regression\n",
        "# Inputs:\n",
        "#     x: n-by-d matrix\n",
        "#     y: n-by-1 matrix\n",
        "#     lam: scalar, the regularization parameter\n",
        "#     b: integer, the batch size\n",
        "#     stepsize: scalar\n",
        "#     max_epoch: integer, the maximal epochs\n",
        "#     w: d-by-1 matrix, initialization of w\n",
        "# Return:\n",
        "#     w: the solution\n",
        "#     objvals: record of each iteration's objective value\n",
        "\n",
        "def mb_sgd(x, y, lam, b, stepsize, max_epoch=100, w=None):\n",
        "    n, d = x.shape  #x= nxd\n",
        "    objvals = numpy.zeros(max_epoch) # store the objective values   #1x100\n",
        "    if w is None:\n",
        "        w = numpy.zeros((d, 1)) # zero initialization\n",
        "    \n",
        "    for t in range(max_epoch):\n",
        "        # randomly shuffle the samples\n",
        "        rand_indices = numpy.random.permutation(n)\n",
        "        x_rand = x[rand_indices, :]\n",
        "        y_rand = y[rand_indices, :]\n",
        "        \n",
        "        objval = 0 # accumulate the objective values\n",
        "        for i in range(int(n/b)):  #TODO: \n",
        "            xi = x_rand[(i*b):((i+1)*b), :] #bxd\n",
        "            yi = y_rand[(i*b):((i+1)*b), :] #bx1\n",
        "            obj, g = mb_stochastic_objective_gradient(w, xi, yi, lam, b )\n",
        "            objval =objval+ obj\n",
        "            w -= stepsize * g\n",
        "        \n",
        "        stepsize *= 0.9 # decrease step size #learning_rate\n",
        "        objval /= int(n/b) \n",
        "        objvals[t] = objval\n",
        "        print('Objective value at epoch t=' + str(t) + ' is ' + str(objval))\n",
        "    \n",
        "    return w, objvals\n"
      ],
      "execution_count": 63,
      "outputs": []
    },
    {
      "cell_type": "markdown",
      "metadata": {
        "id": "omFYJmmaHlaU"
      },
      "source": [
        "## 6.3. Run MB-SGD"
      ]
    },
    {
      "cell_type": "code",
      "metadata": {
        "colab": {
          "base_uri": "https://localhost:8080/"
        },
        "id": "1vHu7adtCV-L",
        "outputId": "2faeb8e5-7bad-4fcf-af55-cab6e11c9986"
      },
      "source": [
        "lam = 1E-6 # do not change\n",
        "b = 1 # do not change\n",
        "stepsize = 0.1 # you must tune this parameter\n",
        "\n",
        "xi= x_train[0:b,:]\n",
        "yi= x_train[0:b,:]\n",
        "w=numpy.zeros((d,1))\n",
        "print(w, xi, yi)\n",
        "obj, g = mb_stochastic_objective_gradient(w, xi, yi, lam, b )\n",
        "print(obj, g)"
      ],
      "execution_count": 64,
      "outputs": [
        {
          "output_type": "stream",
          "text": [
            "[[0.]\n",
            " [0.]\n",
            " [0.]\n",
            " [0.]\n",
            " [0.]\n",
            " [0.]\n",
            " [0.]\n",
            " [0.]\n",
            " [0.]] [[-0.85039959  0.60273526  0.2658729   0.36352226  0.8692748  -1.01070367\n",
            "   1.18455681 -0.87772662  1.        ]] [[-0.85039959  0.60273526  0.2658729   0.36352226  0.8692748  -1.01070367\n",
            "   1.18455681 -0.87772662  1.        ]]\n",
            "0.6931471805599453 [[-0.36158973]\n",
            " [-0.1816449 ]\n",
            " [-0.0353442 ]\n",
            " [-0.06607422]\n",
            " [-0.37781934]\n",
            " [-0.51076095]\n",
            " [-0.70158742]\n",
            " [-0.38520201]\n",
            " [-0.5       ]]\n"
          ],
          "name": "stdout"
        }
      ]
    },
    {
      "cell_type": "code",
      "metadata": {
        "id": "hKxWNFH-HlaV",
        "colab": {
          "base_uri": "https://localhost:8080/"
        },
        "outputId": "51ba4657-c33f-4cae-e772-c04aaa022153"
      },
      "source": [
        "# MB-SGD with batch size b=8\n",
        "lam = 1E-6 # do not change\n",
        "b = 8 # do not change\n",
        "stepsize = 0.2 # you must tune this parameter\n",
        "\n",
        "w, objvals_mbsgd8 = mb_sgd(x_train, y_train, lam, b, stepsize)"
      ],
      "execution_count": 65,
      "outputs": [
        {
          "output_type": "stream",
          "text": [
            "Objective value at epoch t=0 is 0.5284679165807347\n",
            "Objective value at epoch t=1 is 0.49110042849816143\n",
            "Objective value at epoch t=2 is 0.4834126964394492\n",
            "Objective value at epoch t=3 is 0.4894313956434912\n",
            "Objective value at epoch t=4 is 0.48574806494332023\n",
            "Objective value at epoch t=5 is 0.48597994699358915\n",
            "Objective value at epoch t=6 is 0.48594849139705926\n",
            "Objective value at epoch t=7 is 0.48405040876479344\n",
            "Objective value at epoch t=8 is 0.4819795473798438\n",
            "Objective value at epoch t=9 is 0.48210636593600115\n",
            "Objective value at epoch t=10 is 0.4819558736665037\n",
            "Objective value at epoch t=11 is 0.4820416953611078\n",
            "Objective value at epoch t=12 is 0.48169062118883754\n",
            "Objective value at epoch t=13 is 0.48111501679320157\n",
            "Objective value at epoch t=14 is 0.4803348822918442\n",
            "Objective value at epoch t=15 is 0.4797633950681478\n",
            "Objective value at epoch t=16 is 0.4796993589894581\n",
            "Objective value at epoch t=17 is 0.4794929736279056\n",
            "Objective value at epoch t=18 is 0.4794817765806491\n",
            "Objective value at epoch t=19 is 0.47873587486662983\n",
            "Objective value at epoch t=20 is 0.4786706141653435\n",
            "Objective value at epoch t=21 is 0.4786339526376492\n",
            "Objective value at epoch t=22 is 0.4783846877923045\n",
            "Objective value at epoch t=23 is 0.47808300270073223\n",
            "Objective value at epoch t=24 is 0.47793732874582073\n",
            "Objective value at epoch t=25 is 0.4778779682277893\n",
            "Objective value at epoch t=26 is 0.47772150092230686\n",
            "Objective value at epoch t=27 is 0.47750515540157396\n",
            "Objective value at epoch t=28 is 0.4774631645126954\n",
            "Objective value at epoch t=29 is 0.47734994508159606\n",
            "Objective value at epoch t=30 is 0.47727961503691735\n",
            "Objective value at epoch t=31 is 0.47728343896629166\n",
            "Objective value at epoch t=32 is 0.4771654458591219\n",
            "Objective value at epoch t=33 is 0.4770604689773599\n",
            "Objective value at epoch t=34 is 0.4770353309174791\n",
            "Objective value at epoch t=35 is 0.4769957868461199\n",
            "Objective value at epoch t=36 is 0.4768888477620359\n",
            "Objective value at epoch t=37 is 0.4768770245165615\n",
            "Objective value at epoch t=38 is 0.47683657518709327\n",
            "Objective value at epoch t=39 is 0.4767768173240601\n",
            "Objective value at epoch t=40 is 0.47672983614195247\n",
            "Objective value at epoch t=41 is 0.4767184887131036\n",
            "Objective value at epoch t=42 is 0.4766890029796323\n",
            "Objective value at epoch t=43 is 0.47666114178646446\n",
            "Objective value at epoch t=44 is 0.47665843542087816\n",
            "Objective value at epoch t=45 is 0.4766374043432773\n",
            "Objective value at epoch t=46 is 0.4766176268224922\n",
            "Objective value at epoch t=47 is 0.4766078273851805\n",
            "Objective value at epoch t=48 is 0.47659257074488925\n",
            "Objective value at epoch t=49 is 0.4765883708193582\n",
            "Objective value at epoch t=50 is 0.47656274686380484\n",
            "Objective value at epoch t=51 is 0.47655968434491724\n",
            "Objective value at epoch t=52 is 0.476550050697966\n",
            "Objective value at epoch t=53 is 0.4765336931458667\n",
            "Objective value at epoch t=54 is 0.4765302572009234\n",
            "Objective value at epoch t=55 is 0.4765286500947335\n",
            "Objective value at epoch t=56 is 0.47651454137243376\n",
            "Objective value at epoch t=57 is 0.4765167526944003\n",
            "Objective value at epoch t=58 is 0.47651433459887305\n",
            "Objective value at epoch t=59 is 0.4765107568401187\n",
            "Objective value at epoch t=60 is 0.4765033069180243\n",
            "Objective value at epoch t=61 is 0.47649796284957147\n",
            "Objective value at epoch t=62 is 0.47649761744881775\n",
            "Objective value at epoch t=63 is 0.4764957900590482\n",
            "Objective value at epoch t=64 is 0.4764918199690669\n",
            "Objective value at epoch t=65 is 0.4764897198613688\n",
            "Objective value at epoch t=66 is 0.4764847188240462\n",
            "Objective value at epoch t=67 is 0.4764853450998185\n",
            "Objective value at epoch t=68 is 0.47648447389366194\n",
            "Objective value at epoch t=69 is 0.4764818622918271\n",
            "Objective value at epoch t=70 is 0.47648068742717653\n",
            "Objective value at epoch t=71 is 0.47647906969222004\n",
            "Objective value at epoch t=72 is 0.4764778805550149\n",
            "Objective value at epoch t=73 is 0.47647655222596014\n",
            "Objective value at epoch t=74 is 0.4764765280687655\n",
            "Objective value at epoch t=75 is 0.47647586445753864\n",
            "Objective value at epoch t=76 is 0.476474674401777\n",
            "Objective value at epoch t=77 is 0.47647483050932243\n",
            "Objective value at epoch t=78 is 0.4764735391195242\n",
            "Objective value at epoch t=79 is 0.4764730799559027\n",
            "Objective value at epoch t=80 is 0.47647288964947504\n",
            "Objective value at epoch t=81 is 0.4764723447275478\n",
            "Objective value at epoch t=82 is 0.47647205975438933\n",
            "Objective value at epoch t=83 is 0.4764714935401605\n",
            "Objective value at epoch t=84 is 0.476471180186663\n",
            "Objective value at epoch t=85 is 0.47647091601364727\n",
            "Objective value at epoch t=86 is 0.4764705470103336\n",
            "Objective value at epoch t=87 is 0.4764702648205289\n",
            "Objective value at epoch t=88 is 0.47647037027195394\n",
            "Objective value at epoch t=89 is 0.47647008262834073\n",
            "Objective value at epoch t=90 is 0.47646993625161593\n",
            "Objective value at epoch t=91 is 0.47646978817934327\n",
            "Objective value at epoch t=92 is 0.47646954089770627\n",
            "Objective value at epoch t=93 is 0.4764696181666649\n",
            "Objective value at epoch t=94 is 0.4764693593508512\n",
            "Objective value at epoch t=95 is 0.4764693092136505\n",
            "Objective value at epoch t=96 is 0.476469213375083\n",
            "Objective value at epoch t=97 is 0.4764691613189749\n",
            "Objective value at epoch t=98 is 0.4764690209576414\n",
            "Objective value at epoch t=99 is 0.47646905419639624\n"
          ],
          "name": "stdout"
        }
      ]
    },
    {
      "cell_type": "code",
      "metadata": {
        "id": "23QsAR51HlaV",
        "colab": {
          "base_uri": "https://localhost:8080/"
        },
        "outputId": "380559e6-03e2-420d-dcc1-4b0094aa9539"
      },
      "source": [
        "# MB-SGD with batch size b=64\n",
        "lam = 1E-6 # do not change\n",
        "b = 64 # do not change\n",
        "stepsize = 0.6 # you must tune this parameter\n",
        "\n",
        "w, objvals_mbsgd64 = mb_sgd(x_train, y_train, lam, b, stepsize)"
      ],
      "execution_count": 66,
      "outputs": [
        {
          "output_type": "stream",
          "text": [
            "Objective value at epoch t=0 is 0.5650045779910257\n",
            "Objective value at epoch t=1 is 0.49702976521420794\n",
            "Objective value at epoch t=2 is 0.484456176353227\n",
            "Objective value at epoch t=3 is 0.4818887240705297\n",
            "Objective value at epoch t=4 is 0.4815044874083583\n",
            "Objective value at epoch t=5 is 0.4806863848607283\n",
            "Objective value at epoch t=6 is 0.48046703606839003\n",
            "Objective value at epoch t=7 is 0.479873814235504\n",
            "Objective value at epoch t=8 is 0.4793421094496253\n",
            "Objective value at epoch t=9 is 0.4793304601704042\n",
            "Objective value at epoch t=10 is 0.47888612336998726\n",
            "Objective value at epoch t=11 is 0.4783191977967867\n",
            "Objective value at epoch t=12 is 0.47881713035615137\n",
            "Objective value at epoch t=13 is 0.4783904452011045\n",
            "Objective value at epoch t=14 is 0.47800691806300044\n",
            "Objective value at epoch t=15 is 0.4783267370261853\n",
            "Objective value at epoch t=16 is 0.4776260340983957\n",
            "Objective value at epoch t=17 is 0.4780388610307952\n",
            "Objective value at epoch t=18 is 0.477673854027998\n",
            "Objective value at epoch t=19 is 0.4775362852344661\n",
            "Objective value at epoch t=20 is 0.4772238671153802\n",
            "Objective value at epoch t=21 is 0.4771450053481544\n",
            "Objective value at epoch t=22 is 0.47705682830762264\n",
            "Objective value at epoch t=23 is 0.4770400276673413\n",
            "Objective value at epoch t=24 is 0.4770697822767346\n",
            "Objective value at epoch t=25 is 0.4768990956165055\n",
            "Objective value at epoch t=26 is 0.47689958838971525\n",
            "Objective value at epoch t=27 is 0.4768605802464562\n",
            "Objective value at epoch t=28 is 0.47676041204849495\n",
            "Objective value at epoch t=29 is 0.476780457216573\n",
            "Objective value at epoch t=30 is 0.47676780565083643\n",
            "Objective value at epoch t=31 is 0.4767836608877021\n",
            "Objective value at epoch t=32 is 0.47664518060980193\n",
            "Objective value at epoch t=33 is 0.47668314430460573\n",
            "Objective value at epoch t=34 is 0.47669339669266975\n",
            "Objective value at epoch t=35 is 0.47664585417700744\n",
            "Objective value at epoch t=36 is 0.47660456183339417\n",
            "Objective value at epoch t=37 is 0.47665616600669225\n",
            "Objective value at epoch t=38 is 0.4765756480697282\n",
            "Objective value at epoch t=39 is 0.47656848346935526\n",
            "Objective value at epoch t=40 is 0.47652788109364524\n",
            "Objective value at epoch t=41 is 0.4765712171263414\n",
            "Objective value at epoch t=42 is 0.47655829947775474\n",
            "Objective value at epoch t=43 is 0.47653737732530094\n",
            "Objective value at epoch t=44 is 0.47653505374595595\n",
            "Objective value at epoch t=45 is 0.476517527597772\n",
            "Objective value at epoch t=46 is 0.476521056657471\n",
            "Objective value at epoch t=47 is 0.47651095885216443\n",
            "Objective value at epoch t=48 is 0.4765077790211274\n",
            "Objective value at epoch t=49 is 0.4764963668540411\n",
            "Objective value at epoch t=50 is 0.4765042631394377\n",
            "Objective value at epoch t=51 is 0.47650136710383617\n",
            "Objective value at epoch t=52 is 0.47649421699404915\n",
            "Objective value at epoch t=53 is 0.47650247317200023\n",
            "Objective value at epoch t=54 is 0.4764908759813862\n",
            "Objective value at epoch t=55 is 0.47649324753394107\n",
            "Objective value at epoch t=56 is 0.4764880195120515\n",
            "Objective value at epoch t=57 is 0.47648546608370523\n",
            "Objective value at epoch t=58 is 0.47648778875037473\n",
            "Objective value at epoch t=59 is 0.47648143455396497\n",
            "Objective value at epoch t=60 is 0.47648506231993737\n",
            "Objective value at epoch t=61 is 0.4764792741988096\n",
            "Objective value at epoch t=62 is 0.4764845009446968\n",
            "Objective value at epoch t=63 is 0.47648100827722617\n",
            "Objective value at epoch t=64 is 0.4764776726688497\n",
            "Objective value at epoch t=65 is 0.4764823535425317\n",
            "Objective value at epoch t=66 is 0.47647679333246773\n",
            "Objective value at epoch t=67 is 0.47647697116628035\n",
            "Objective value at epoch t=68 is 0.4764745876233126\n",
            "Objective value at epoch t=69 is 0.4764756982850221\n",
            "Objective value at epoch t=70 is 0.4764758045301164\n",
            "Objective value at epoch t=71 is 0.4764740577735089\n",
            "Objective value at epoch t=72 is 0.47647510166573986\n",
            "Objective value at epoch t=73 is 0.4764746236301528\n",
            "Objective value at epoch t=74 is 0.47647363995733105\n",
            "Objective value at epoch t=75 is 0.4764732591275793\n",
            "Objective value at epoch t=76 is 0.4764735743438268\n",
            "Objective value at epoch t=77 is 0.4764736174334626\n",
            "Objective value at epoch t=78 is 0.4764721077496901\n",
            "Objective value at epoch t=79 is 0.47647213574680525\n",
            "Objective value at epoch t=80 is 0.47647209208434804\n",
            "Objective value at epoch t=81 is 0.4764721685220186\n",
            "Objective value at epoch t=82 is 0.4764719923005744\n",
            "Objective value at epoch t=83 is 0.4764717164965694\n",
            "Objective value at epoch t=84 is 0.47647207210626297\n",
            "Objective value at epoch t=85 is 0.47647186760296945\n",
            "Objective value at epoch t=86 is 0.476471458289981\n",
            "Objective value at epoch t=87 is 0.4764714307226214\n",
            "Objective value at epoch t=88 is 0.4764715938232227\n",
            "Objective value at epoch t=89 is 0.47647141142456795\n",
            "Objective value at epoch t=90 is 0.47647143428581734\n",
            "Objective value at epoch t=91 is 0.47647132601792064\n",
            "Objective value at epoch t=92 is 0.47647134383955325\n",
            "Objective value at epoch t=93 is 0.47647121149434774\n",
            "Objective value at epoch t=94 is 0.47647119876002214\n",
            "Objective value at epoch t=95 is 0.4764712036435121\n",
            "Objective value at epoch t=96 is 0.4764711282075555\n",
            "Objective value at epoch t=97 is 0.476471085270603\n",
            "Objective value at epoch t=98 is 0.4764710281740442\n",
            "Objective value at epoch t=99 is 0.47647106620474367\n"
          ],
          "name": "stdout"
        }
      ]
    },
    {
      "cell_type": "markdown",
      "metadata": {
        "id": "P8jkzfgkHlaV"
      },
      "source": [
        "# 7. Plot and compare GD, SGD, and MB-SGD"
      ]
    },
    {
      "cell_type": "markdown",
      "metadata": {
        "id": "sukP2dmLHlaV"
      },
      "source": [
        "You are required to compare the following algorithms:\n",
        "\n",
        "- Gradient descent (GD)\n",
        "\n",
        "- SGD\n",
        "\n",
        "- MB-SGD with b=8\n",
        "\n",
        "- MB-SGD with b=64\n",
        "\n",
        "Follow the code in Section 4 to plot ```objective function value``` against ```epochs```. There should be four curves in the plot; each curve corresponds to one algorithm."
      ]
    },
    {
      "cell_type": "markdown",
      "metadata": {
        "id": "XWJ7TmQSHlaW"
      },
      "source": [
        "Hint: Logistic regression with $\\ell_2$-norm regularization is a strongly convex optimization problem. All the algorithms will converge to the same solution. **In the end, the ``objective function value`` of the 4 algorithms will be the same. If not the same, your implementation must be wrong. Do NOT submit wrong code and wrong result!**"
      ]
    },
    {
      "cell_type": "code",
      "metadata": {
        "id": "NoIhuddLHlaW",
        "colab": {
          "base_uri": "https://localhost:8080/",
          "height": 297
        },
        "outputId": "2393d107-6f2e-42ba-d134-a51c2b320446"
      },
      "source": [
        "# plot the 4 curves:\n",
        "import matplotlib.pyplot as plt\n",
        "%matplotlib inline\n",
        "\n",
        "fig = plt.figure(figsize=(6, 4))\n",
        "\n",
        "gdEpochs=range(len(objvals_gd))\n",
        "sgdEpochs=range(len(objvals_sgd))\n",
        "mbsgd8Epochs=range(len(objvals_mbsgd8))\n",
        "mbsgd64Epochs=range(len(objvals_mbsgd64))\n",
        "\n",
        "line0, = plt.plot(gdEpochs, objvals_gd, '--b', LineWidth=4)\n",
        "line1, = plt.plot(sgdEpochs, objvals_sgd, '-r', LineWidth=2)\n",
        "line2, = plt.plot(mbsgd8Epochs, objvals_mbsgd8, '-g', LineWidth=2)\n",
        "line3, = plt.plot(mbsgd64Epochs, objvals_mbsgd64,color='darkorange', LineWidth=2)\n",
        "\n",
        "plt.xlabel('Epochs', FontSize=20)\n",
        "plt.ylabel('Objective Value', FontSize=20)\n",
        "plt.xticks(FontSize=16)\n",
        "plt.yticks(FontSize=16)\n",
        "\n",
        "plt.legend([line0, line1, line2,line3], ['GD', 'SGD' , 'MB SGD 8', 'MB SGD 64'], fontsize=20)\n",
        "plt.tight_layout()\n",
        "plt.show()\n",
        "fig.savefig('compare_gd_sgd_mb_8_mb_64.pdf', format='pdf', dpi=1200)"
      ],
      "execution_count": 71,
      "outputs": [
        {
          "output_type": "display_data",
          "data": {
            "image/png": "[encoded data removed]",
            "text/plain": [
              "<Figure size 432x288 with 1 Axes>"
            ]
          },
          "metadata": {
            "tags": [],
            "needs_background": "light"
          }
        }
      ]
    },
    {
      "cell_type": "markdown",
      "metadata": {
        "id": "zxFhYIiQHlaW"
      },
      "source": [
        ""
      ]
    }
  ]
}